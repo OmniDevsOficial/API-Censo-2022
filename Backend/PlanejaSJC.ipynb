{
  "cells": [
    {
      "cell_type": "markdown",
      "metadata": {
        "id": "RO0owwGgFzou"
      },
      "source": [
        "# Bem-Vindo ao Planeja SJC!\n",
        "\n",
        "Aqui, você encontrará uma ampla gama de recursos para explorar e compreender a dinâmica da nossa cidade. Nossa plataforma oferece mapas interativos que permitem visualizar diferentes aspectos do espaço urbano, desde a infraestrutura até as áreas verdes, ajudando você a entender melhor o ambiente em que vive. Além disso, disponibilizamos dados demográficos detalhados, que fornecem uma visão abrangente sobre a população, suas características e necessidades. Esses dados são essenciais para que cidadãos, planejadores urbanos e gestores públicos possam tomar decisões informadas e embasadas."
      ]
    },
    {
      "cell_type": "markdown",
      "metadata": {
        "id": "dPUyOGC_GQEP"
      },
      "source": [
        "### Sumário dos Gráficos\n",
        "\n",
        "1 - População Total por Bairro e Zona\n",
        "\n",
        "2 - Crescimento Populacional por Zona entre 2010 e 2022\n",
        "\n",
        "3 - Pirâmide Etária\n",
        "\n",
        "4 - Densidade Populacional por Região"
      ]
    },
    {
      "cell_type": "markdown",
      "metadata": {
        "id": "Pl6t03ixACmb"
      },
      "source": [
        "### Dependências do Projeto"
      ]
    },
    {
      "cell_type": "code",
      "execution_count": null,
      "metadata": {
        "id": "UytsqjxZACmb"
      },
      "outputs": [],
      "source": [
        "import os\n",
        "from contextlib import redirect_stdout\n",
        "import io\n",
        "\n",
        "# Define o diretório atual como o /content\n",
        "os.chdir('/content')\n",
        "\n",
        "# Baixa os arquivos do repositório Github para o /content do Colab\n",
        "with redirect_stdout(io.StringIO()):\n",
        "    !git clone https://github.com/OmniDevsOficial/API-Censo-2022.git\n",
        "\n",
        "# Define a pasta onde estão os arquivos da base de dados\n",
        "data_path = '/content/API-Censo-2022/Backend/database/'\n",
        "\n",
        "# Realiza as importações para ler arquivos e mostrar gráficos\n",
        "import pandas as pd\n",
        "import plotly.express as px"
      ]
    },
    {
      "cell_type": "markdown",
      "metadata": {
        "id": "Ub0VouJiHEnN"
      },
      "source": [
        "### População Total por Bairro e Zona"
      ]
    },
    {
      "cell_type": "code",
      "execution_count": null,
      "metadata": {
        "id": "5cZ_oh3ZEDYL"
      },
      "outputs": [],
      "source": [
        "#puxa a tabela de Pop por bairro e região do github e atribui as variaveis \"Pop_Tabela_Bairro\" e \"Pop_Tabela_Regiao\".\n",
        "Pop_Tabela_Bairro= pd.read_excel(data_path + 'populacao_subsetores_completo.xlsx')\n",
        "\n",
        "Pop_Tabela_Regiao= pd.read_excel(data_path + \"censo_2022.xlsx\", sheet_name=\"População por Região\")\n",
        "\n",
        "# Retira o Total Geral, que é referente a cidade e não uma região\n",
        "Pop_Tabela_Regiao = Pop_Tabela_Regiao[Pop_Tabela_Regiao['Região'] != 'Total Geral']\n",
        "\n",
        "#cria um gráfico em relação as tabelas, nesse caso a tabela censo_2022.\n",
        "Pop_Total_Regiao=px.pie(Pop_Tabela_Regiao, names=\"Região\", values=\"População\")\n",
        "Pop_Total_Regiao.update_traces(textposition='inside', textinfo='percent+label', title_text=\"População Total:\", title_position=\"top left\")\n",
        "Pop_Total_Regiao.show()\n",
        "\n",
        "Pop_Bairro_Centro=px.bar(Pop_Tabela_Bairro, x=\"Subsetor – Nome\", y=\"População\", color=\"Região\",)\n",
        "Pop_Bairro_Centro.show()"
      ]
    },
    {
      "cell_type": "markdown",
      "metadata": {
        "id": "ob_GnKdSHyZP"
      },
      "source": [
        "### Crescimento Populacional por Zona entre 2010 e 2022"
      ]
    },
    {
      "cell_type": "code",
      "execution_count": null,
      "metadata": {
        "id": "XUGq3ZopHyZQ"
      },
      "outputs": [],
      "source": [
        "# o colab faz a leitura da tabela e mostra um display dela\n",
        "file_path = data_path + 'tabel_pop.xlsx'\n",
        "\n",
        "df = pd.read_excel(file_path)\n",
        "# Ordenar o DataFrame pela população de 2022\n",
        "df_sorted = df.sort_values(by='Pop. 2022', ascending=False)\n",
        "\n",
        "fig = px.bar(\n",
        "    df_sorted,\n",
        "    x='Região',\n",
        "    y=['Pop. 2010', 'Pop. 2022'],\n",
        "    barmode='group', # Agrupa as Colunas\n",
        "    title='Crescimento Populacional por Região (2010 vs 2022)',\n",
        ")\n",
        "\n",
        "fig.update_layout(\n",
        "    template='plotly_white',\n",
        "    title_x=0.5,\n",
        "    yaxis_title='Número de Habitantes',\n",
        "    xaxis_title=None,\n",
        "    legend_title='Ano do Censo'\n",
        ")\n",
        "\n",
        "fig.show()\n",
        "\n",
        "df['Crescimento_Percentual'] = df['Crescimento %'] * 100\n",
        "\n",
        "#Aqui eu crio a varável de crescimento, leio o arquivo ja colocado anteriormente no códico e começo a estruturar o gráfico\n",
        "crescimento=px.bar(df, x= \"Região\", y= \"Crescimento_Percentual\",\n",
        "color=\"Região\",\n",
        "title= \"Taxa de Crescimento Populacional\",\n",
        "text= \"Crescimento_Percentual\"\n",
        ")\n",
        "\n",
        "# Adicione o símbolo de '%' e defina a formatação\n",
        "crescimento.update_traces(texttemplate='%{text:.2f}%', textposition='outside')\n",
        "\n",
        "#Essa parte serve pra estilizar o gráfico e seu layout\n",
        "crescimento.update_layout(\n",
        "    template='plotly_white',\n",
        "    title_x=0.5,\n",
        "    yaxis_title='Percentual de Habitantes',\n",
        "    xaxis_title=None,\n",
        "    legend_title='Regiões'\n",
        ")\n",
        "\n",
        "crescimento.show()"
      ]
    },
    {
      "cell_type": "markdown",
      "metadata": {
        "id": "VoVfPvesH5sC"
      },
      "source": [
        "### Pirâmide Etária"
      ]
    },
    {
      "cell_type": "code",
      "execution_count": null,
      "metadata": {
        "id": "QQdCSI25H5sC"
      },
      "outputs": [],
      "source": [
        "faixa= pd.read_excel(data_path + 'etaria.xlsx')\n",
        "\n",
        "display(faixa)\n",
        "# Excluí a primeira linha - o cabeçalho. E a segunda linha - Onde mostra o total de habitantes da cidade.\n",
        "faixa_sem_cabecalho_total = faixa.drop([0, 5])\n",
        "\n",
        "fig = px.bar(\n",
        "    faixa_sem_cabecalho_total,\n",
        "    x = 'Grupos',\n",
        "    y = ['2010','2022'])\n",
        "             #labels={'variable': 'Anos e Porcentagem'})  Mudando o texto padrão do Plotly - Variable'\n",
        "fig.update_layout(barmode='group')\n",
        "fig.update_layout(\n",
        "    legend_title_text='Anos',\n",
        "    title='Grupos etários entre os Censos de 2010 e 2022',\n",
        "    yaxis_title='População',\n",
        "    xaxis_title=None)\n",
        "fig.show()"
      ]
    },
    {
      "cell_type": "markdown",
      "metadata": {
        "id": "VrdSaSsBH_M9"
      },
      "source": [
        "### Densidade Populacional por Região"
      ]
    },
    {
      "cell_type": "code",
      "execution_count": null,
      "metadata": {
        "id": "HaNKZugEH_M-"
      },
      "outputs": [],
      "source": [
        "excel_file = data_path + 'tabel_pop.xlsx'\n",
        "\n",
        "df_pop = pd.read_excel(excel_file, sheet_name=0,  index_col=0,)\n",
        "\n",
        "# Áreas(km²) das Regiões de SJC obtidas em: https://planodiretor.sjc.sp.gov.br/resources/uploads/EstudoTecnico/Anexo/PD_VOLUME_1_C7_REGIOES_URBANAS.pdf\n",
        "areas = {\n",
        "    \"Norte\": 63.73,\n",
        "    \"Sul\": 56.51,\n",
        "    \"Leste\": 134.69,\n",
        "    \"Oeste\": 44.01,\n",
        "    \"Sudeste\": 35.66,\n",
        "    \"Centro\": 18.68,\n",
        "    # \"Rural\": 745.7,\n",
        "}\n",
        "# Transforma o dicionário das áreas em um Dataframe\n",
        "df_area = pd.DataFrame(list(areas.items()), columns=['Região', 'Área (km²)'])\n",
        "\n",
        "# Une os dados de população e área\n",
        "df = pd.merge(df_pop, df_area, on='Região')\n",
        "\n",
        "# Retira os dados da Região Rural, pois possui densidade muito pequena para ser vista no gráfico\n",
        "df = df[df['Região'] != 'Rural']\n",
        "\n",
        "# Calcula a densidade populacional\n",
        "df['2010'] = df['Pop. 2010'] / df['Área (km²)']\n",
        "df['2022'] = df['Pop. 2022'] / df['Área (km²)']\n",
        "\n",
        "# Ordena da maior densidade de 2022 para a menor\n",
        "df_sorted = df.sort_values(by='2022', ascending=False)\n",
        "\n",
        "# Organiza como mostrar e quais informações serão mostradas\n",
        "fig = px.bar(\n",
        "    df_sorted,\n",
        "    x='Região',\n",
        "    y=['2010', '2022'],\n",
        "    barmode='group',\n",
        "    title='Densidade Populacional por Região (2010 x 2022)',\n",
        "    labels={'value': 'Densidade Populacional (hab/km²)', 'Região': 'Região', 'variable': 'Ano'},\n",
        ")\n",
        "fig.update_layout(legend_title_text='Ano', xaxis_title=None)\n",
        "\n",
        "fig.show()"
      ]
    }
  ],
  "metadata": {
    "colab": {
      "provenance": []
    },
    "kernelspec": {
      "display_name": "Python 3",
      "name": "python3"
    },
    "language_info": {
      "name": "python"
    }
  },
  "nbformat": 4,
  "nbformat_minor": 0
}
