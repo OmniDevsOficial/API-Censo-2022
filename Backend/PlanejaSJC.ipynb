{
  "cells": [
    {
      "cell_type": "markdown",
      "metadata": {
        "id": "RO0owwGgFzou"
      },
      "source": [
        "# Bem-Vindo ao Planeja SJC!\n",
        "\n",
        "Aqui, você encontrará uma ampla gama de recursos para explorar e compreender a dinâmica da nossa cidade. Nossa plataforma oferece mapas interativos que permitem visualizar diferentes aspectos do espaço urbano, desde a infraestrutura até as áreas verdes, ajudando você a entender melhor o ambiente em que vive. Além disso, disponibilizamos dados demográficos detalhados, que fornecem uma visão abrangente sobre a população, suas características e necessidades. Esses dados são essenciais para que cidadãos, planejadores urbanos e gestores públicos possam tomar decisões informadas e embasadas."
      ]
    },
    {
      "cell_type": "markdown",
      "metadata": {
        "id": "dPUyOGC_GQEP"
      },
      "source": [
        "### Sumário dos Gráficos\n",
        "\n",
        "1 - População Total por Bairro e Zona\n",
        "\n",
        "2 - Crescimento Populacional por Zona entre 2010 e 2022\n",
        "\n",
        "3 - Pirâmide Etária\n",
        "\n",
        "4 - Densidade Populacional por Região"
      ]
    },
    {
      "cell_type": "markdown",
      "metadata": {
        "id": "73vY1G6M4IdZ"
      },
      "source": [
        "### Dependências do Projeto"
      ]
    },
    {
      "cell_type": "code",
      "execution_count": 2,
      "metadata": {
        "id": "b-BB2Uya4Ida"
      },
      "outputs": [
        {
          "ename": "ModuleNotFoundError",
          "evalue": "No module named 'pandas'",
          "output_type": "error",
          "traceback": [
            "\u001b[31m---------------------------------------------------------------------------\u001b[39m",
            "\u001b[31mModuleNotFoundError\u001b[39m                       Traceback (most recent call last)",
            "\u001b[36mCell\u001b[39m\u001b[36m \u001b[39m\u001b[32mIn[2]\u001b[39m\u001b[32m, line 1\u001b[39m\n\u001b[32m----> \u001b[39m\u001b[32m1\u001b[39m \u001b[38;5;28;01mimport\u001b[39;00m\u001b[38;5;250m \u001b[39m\u001b[34;01mpandas\u001b[39;00m\u001b[38;5;250m \u001b[39m\u001b[38;5;28;01mas\u001b[39;00m\u001b[38;5;250m \u001b[39m\u001b[34;01mpd\u001b[39;00m\n\u001b[32m      2\u001b[39m \u001b[38;5;28;01mfrom\u001b[39;00m\u001b[38;5;250m \u001b[39m\u001b[34;01mgoogle\u001b[39;00m\u001b[34;01m.\u001b[39;00m\u001b[34;01mcolab\u001b[39;00m\u001b[38;5;250m \u001b[39m\u001b[38;5;28;01mimport\u001b[39;00m drive\n\u001b[32m      3\u001b[39m \u001b[38;5;28;01mimport\u001b[39;00m\u001b[38;5;250m \u001b[39m\u001b[34;01mplotly\u001b[39;00m\u001b[34;01m.\u001b[39;00m\u001b[34;01mexpress\u001b[39;00m\u001b[38;5;250m \u001b[39m\u001b[38;5;28;01mas\u001b[39;00m\u001b[38;5;250m \u001b[39m\u001b[34;01mpx\u001b[39;00m\n",
            "\u001b[31mModuleNotFoundError\u001b[39m: No module named 'pandas'"
          ]
        }
      ],
      "source": [
        "import pandas as pd\n",
        "from google.colab import drive\n",
        "import plotly.express as px"
      ]
    },
    {
      "cell_type": "markdown",
      "metadata": {
        "id": "Ub0VouJiHEnN"
      },
      "source": [
        "### População Total por Bairro e Zona"
      ]
    },
    {
      "cell_type": "code",
      "execution_count": null,
      "metadata": {
        "id": "5cZ_oh3ZEDYL"
      },
      "outputs": [],
      "source": []
    },
    {
      "cell_type": "markdown",
      "metadata": {
        "id": "ob_GnKdSHyZP"
      },
      "source": [
        "### Crescimento Populacional por Zona entre 2010 e 2022"
      ]
    },
    {
      "cell_type": "code",
      "execution_count": null,
      "metadata": {
        "id": "XUGq3ZopHyZQ"
      },
      "outputs": [],
      "source": []
    },
    {
      "cell_type": "markdown",
      "metadata": {
        "id": "VoVfPvesH5sC"
      },
      "source": [
        "### Pirâmide Etária"
      ]
    },
    {
      "cell_type": "code",
      "execution_count": null,
      "metadata": {
        "id": "QQdCSI25H5sC"
      },
      "outputs": [
        {
          "name": "stdout",
          "output_type": "stream",
          "text": [
            "Collecting pandas\n",
            "  Using cached pandas-2.3.2-cp313-cp313-win_amd64.whl.metadata (19 kB)\n",
            "Requirement already satisfied: plotly in c:\\users\\henri\\appdata\\local\\programs\\python\\python313\\lib\\site-packages (6.3.0)\n",
            "Collecting openpyxl\n",
            "  Downloading openpyxl-3.1.5-py2.py3-none-any.whl.metadata (2.5 kB)\n",
            "Collecting numpy>=1.26.0 (from pandas)\n",
            "  Downloading numpy-2.3.3-cp313-cp313-win_amd64.whl.metadata (60 kB)\n",
            "Requirement already satisfied: python-dateutil>=2.8.2 in c:\\users\\henri\\appdata\\roaming\\python\\python313\\site-packages (from pandas) (2.9.0.post0)\n",
            "Collecting pytz>=2020.1 (from pandas)\n",
            "  Downloading pytz-2025.2-py2.py3-none-any.whl.metadata (22 kB)\n",
            "Collecting tzdata>=2022.7 (from pandas)\n",
            "  Downloading tzdata-2025.2-py2.py3-none-any.whl.metadata (1.4 kB)\n",
            "Requirement already satisfied: narwhals>=1.15.1 in c:\\users\\henri\\appdata\\local\\programs\\python\\python313\\lib\\site-packages (from plotly) (2.5.0)\n",
            "Requirement already satisfied: packaging in c:\\users\\henri\\appdata\\local\\programs\\python\\python313\\lib\\site-packages (from plotly) (25.0)\n",
            "Collecting et-xmlfile (from openpyxl)\n",
            "  Downloading et_xmlfile-2.0.0-py3-none-any.whl.metadata (2.7 kB)\n",
            "Requirement already satisfied: six>=1.5 in c:\\users\\henri\\appdata\\roaming\\python\\python313\\site-packages (from python-dateutil>=2.8.2->pandas) (1.17.0)\n",
            "Downloading pandas-2.3.2-cp313-cp313-win_amd64.whl (11.0 MB)\n",
            "   ---------------------------------------- 0.0/11.0 MB ? eta -:--:--\n",
            "   - -------------------------------------- 0.5/11.0 MB 4.3 MB/s eta 0:00:03\n",
            "   ---- ----------------------------------- 1.3/11.0 MB 4.0 MB/s eta 0:00:03\n",
            "   ------- -------------------------------- 2.1/11.0 MB 3.9 MB/s eta 0:00:03\n",
            "   ---------- ----------------------------- 2.9/11.0 MB 3.9 MB/s eta 0:00:03\n",
            "   ------------ --------------------------- 3.4/11.0 MB 3.6 MB/s eta 0:00:03\n",
            "   --------------- ------------------------ 4.2/11.0 MB 3.7 MB/s eta 0:00:02\n",
            "   ------------------ --------------------- 5.0/11.0 MB 3.7 MB/s eta 0:00:02\n",
            "   --------------------- ------------------ 5.8/11.0 MB 3.7 MB/s eta 0:00:02\n",
            "   ----------------------- ---------------- 6.6/11.0 MB 3.8 MB/s eta 0:00:02\n",
            "   -------------------------- ------------- 7.3/11.0 MB 3.8 MB/s eta 0:00:01\n",
            "   ------------------------------ --------- 8.4/11.0 MB 3.8 MB/s eta 0:00:01\n",
            "   --------------------------------- ------ 9.2/11.0 MB 3.8 MB/s eta 0:00:01\n",
            "   ------------------------------------ --- 10.0/11.0 MB 3.9 MB/s eta 0:00:01\n",
            "   ---------------------------------------  10.7/11.0 MB 3.9 MB/s eta 0:00:01\n",
            "   ---------------------------------------- 11.0/11.0 MB 3.9 MB/s  0:00:02\n",
            "Downloading openpyxl-3.1.5-py2.py3-none-any.whl (250 kB)\n",
            "Downloading numpy-2.3.3-cp313-cp313-win_amd64.whl (12.8 MB)\n",
            "   ---------------------------------------- 0.0/12.8 MB ? eta -:--:--\n",
            "   - -------------------------------------- 0.5/12.8 MB 3.3 MB/s eta 0:00:04\n",
            "   ---- ----------------------------------- 1.3/12.8 MB 3.7 MB/s eta 0:00:04\n",
            "   ------ --------------------------------- 2.1/12.8 MB 3.7 MB/s eta 0:00:03\n",
            "   -------- ------------------------------- 2.6/12.8 MB 3.6 MB/s eta 0:00:03\n",
            "   ---------- ----------------------------- 3.4/12.8 MB 3.6 MB/s eta 0:00:03\n",
            "   ------------- -------------------------- 4.5/12.8 MB 3.8 MB/s eta 0:00:03\n",
            "   ---------------- ----------------------- 5.2/12.8 MB 3.8 MB/s eta 0:00:02\n",
            "   ------------------ --------------------- 6.0/12.8 MB 3.9 MB/s eta 0:00:02\n",
            "   ---------------------- ----------------- 7.1/12.8 MB 3.9 MB/s eta 0:00:02\n",
            "   ------------------------ --------------- 7.9/12.8 MB 4.0 MB/s eta 0:00:02\n",
            "   --------------------------- ------------ 8.9/12.8 MB 4.0 MB/s eta 0:00:01\n",
            "   ------------------------------ --------- 9.7/12.8 MB 4.0 MB/s eta 0:00:01\n",
            "   ------------------------------- -------- 10.2/12.8 MB 3.9 MB/s eta 0:00:01\n",
            "   ---------------------------------- ----- 11.0/12.8 MB 4.0 MB/s eta 0:00:01\n",
            "   ----------------------------------- ---- 11.3/12.8 MB 3.7 MB/s eta 0:00:01\n",
            "   ------------------------------------- -- 12.1/12.8 MB 3.7 MB/s eta 0:00:01\n",
            "   ---------------------------------------  12.6/12.8 MB 3.7 MB/s eta 0:00:01\n",
            "   ---------------------------------------- 12.8/12.8 MB 3.7 MB/s  0:00:03\n",
            "Downloading pytz-2025.2-py2.py3-none-any.whl (509 kB)\n",
            "Downloading tzdata-2025.2-py2.py3-none-any.whl (347 kB)\n",
            "Downloading et_xmlfile-2.0.0-py3-none-any.whl (18 kB)\n",
            "Installing collected packages: pytz, tzdata, numpy, et-xmlfile, pandas, openpyxl\n",
            "\n",
            "   ---------------------------------------- 0/6 [pytz]\n",
            "   ------ --------------------------------- 1/6 [tzdata]\n",
            "   ------ --------------------------------- 1/6 [tzdata]\n",
            "   ------------- -------------------------- 2/6 [numpy]\n",
            "   ------------- -------------------------- 2/6 [numpy]\n",
            "   ------------- -------------------------- 2/6 [numpy]\n",
            "   ------------- -------------------------- 2/6 [numpy]\n",
            "   ------------- -------------------------- 2/6 [numpy]\n",
            "   ------------- -------------------------- 2/6 [numpy]\n",
            "   ------------- -------------------------- 2/6 [numpy]\n",
            "   ------------- -------------------------- 2/6 [numpy]\n",
            "   ------------- -------------------------- 2/6 [numpy]\n",
            "   ------------- -------------------------- 2/6 [numpy]\n",
            "   ------------- -------------------------- 2/6 [numpy]\n",
            "   ------------- -------------------------- 2/6 [numpy]\n",
            "   ------------- -------------------------- 2/6 [numpy]\n",
            "   ------------- -------------------------- 2/6 [numpy]\n",
            "   ------------- -------------------------- 2/6 [numpy]\n",
            "   ------------- -------------------------- 2/6 [numpy]\n",
            "   ------------- -------------------------- 2/6 [numpy]\n",
            "   ------------- -------------------------- 2/6 [numpy]\n",
            "   ------------- -------------------------- 2/6 [numpy]\n",
            "   ------------- -------------------------- 2/6 [numpy]\n",
            "   ------------- -------------------------- 2/6 [numpy]\n",
            "   ------------- -------------------------- 2/6 [numpy]\n",
            "   ------------- -------------------------- 2/6 [numpy]\n",
            "   ------------- -------------------------- 2/6 [numpy]\n",
            "   ------------- -------------------------- 2/6 [numpy]\n",
            "   ------------- -------------------------- 2/6 [numpy]\n",
            "   ------------- -------------------------- 2/6 [numpy]\n",
            "   ------------- -------------------------- 2/6 [numpy]\n",
            "   ------------- -------------------------- 2/6 [numpy]\n",
            "   ------------- -------------------------- 2/6 [numpy]\n",
            "   ------------- -------------------------- 2/6 [numpy]\n",
            "   ------------- -------------------------- 2/6 [numpy]\n",
            "   ------------- -------------------------- 2/6 [numpy]\n",
            "   ------------- -------------------------- 2/6 [numpy]\n",
            "   ------------- -------------------------- 2/6 [numpy]\n",
            "   -------------------- ------------------- 3/6 [et-xmlfile]\n",
            "   -------------------------- ------------- 4/6 [pandas]\n",
            "   -------------------------- ------------- 4/6 [pandas]\n",
            "   -------------------------- ------------- 4/6 [pandas]\n",
            "   -------------------------- ------------- 4/6 [pandas]\n",
            "   -------------------------- ------------- 4/6 [pandas]\n",
            "   -------------------------- ------------- 4/6 [pandas]\n",
            "   -------------------------- ------------- 4/6 [pandas]\n",
            "   -------------------------- ------------- 4/6 [pandas]\n",
            "   -------------------------- ------------- 4/6 [pandas]\n",
            "   -------------------------- ------------- 4/6 [pandas]\n",
            "   -------------------------- ------------- 4/6 [pandas]\n",
            "   -------------------------- ------------- 4/6 [pandas]\n",
            "   -------------------------- ------------- 4/6 [pandas]\n",
            "   -------------------------- ------------- 4/6 [pandas]\n",
            "   -------------------------- ------------- 4/6 [pandas]\n",
            "   -------------------------- ------------- 4/6 [pandas]\n",
            "   -------------------------- ------------- 4/6 [pandas]\n",
            "   -------------------------- ------------- 4/6 [pandas]\n",
            "   -------------------------- ------------- 4/6 [pandas]\n",
            "   -------------------------- ------------- 4/6 [pandas]\n",
            "   -------------------------- ------------- 4/6 [pandas]\n",
            "   -------------------------- ------------- 4/6 [pandas]\n",
            "   -------------------------- ------------- 4/6 [pandas]\n",
            "   -------------------------- ------------- 4/6 [pandas]\n",
            "   -------------------------- ------------- 4/6 [pandas]\n",
            "   -------------------------- ------------- 4/6 [pandas]\n",
            "   -------------------------- ------------- 4/6 [pandas]\n",
            "   -------------------------- ------------- 4/6 [pandas]\n",
            "   -------------------------- ------------- 4/6 [pandas]\n",
            "   -------------------------- ------------- 4/6 [pandas]\n",
            "   -------------------------- ------------- 4/6 [pandas]\n",
            "   -------------------------- ------------- 4/6 [pandas]\n",
            "   -------------------------- ------------- 4/6 [pandas]\n",
            "   -------------------------- ------------- 4/6 [pandas]\n",
            "   -------------------------- ------------- 4/6 [pandas]\n",
            "   -------------------------- ------------- 4/6 [pandas]\n",
            "   -------------------------- ------------- 4/6 [pandas]\n",
            "   -------------------------- ------------- 4/6 [pandas]\n",
            "   -------------------------- ------------- 4/6 [pandas]\n",
            "   -------------------------- ------------- 4/6 [pandas]\n",
            "   -------------------------- ------------- 4/6 [pandas]\n",
            "   -------------------------- ------------- 4/6 [pandas]\n",
            "   -------------------------- ------------- 4/6 [pandas]\n",
            "   -------------------------- ------------- 4/6 [pandas]\n",
            "   -------------------------- ------------- 4/6 [pandas]\n",
            "   -------------------------- ------------- 4/6 [pandas]\n",
            "   -------------------------- ------------- 4/6 [pandas]\n",
            "   -------------------------- ------------- 4/6 [pandas]\n",
            "   -------------------------- ------------- 4/6 [pandas]\n",
            "   -------------------------- ------------- 4/6 [pandas]\n",
            "   -------------------------- ------------- 4/6 [pandas]\n",
            "   -------------------------- ------------- 4/6 [pandas]\n",
            "   -------------------------- ------------- 4/6 [pandas]\n",
            "   -------------------------- ------------- 4/6 [pandas]\n",
            "   -------------------------- ------------- 4/6 [pandas]\n",
            "   -------------------------- ------------- 4/6 [pandas]\n",
            "   -------------------------- ------------- 4/6 [pandas]\n",
            "   -------------------------- ------------- 4/6 [pandas]\n",
            "   -------------------------- ------------- 4/6 [pandas]\n",
            "   -------------------------- ------------- 4/6 [pandas]\n",
            "   -------------------------- ------------- 4/6 [pandas]\n",
            "   -------------------------- ------------- 4/6 [pandas]\n",
            "   -------------------------- ------------- 4/6 [pandas]\n",
            "   -------------------------- ------------- 4/6 [pandas]\n",
            "   -------------------------- ------------- 4/6 [pandas]\n",
            "   -------------------------- ------------- 4/6 [pandas]\n",
            "   -------------------------- ------------- 4/6 [pandas]\n",
            "   -------------------------- ------------- 4/6 [pandas]\n",
            "   -------------------------- ------------- 4/6 [pandas]\n",
            "   -------------------------- ------------- 4/6 [pandas]\n",
            "   -------------------------- ------------- 4/6 [pandas]\n",
            "   -------------------------- ------------- 4/6 [pandas]\n",
            "   -------------------------- ------------- 4/6 [pandas]\n",
            "   -------------------------- ------------- 4/6 [pandas]\n",
            "   -------------------------- ------------- 4/6 [pandas]\n",
            "   -------------------------- ------------- 4/6 [pandas]\n",
            "   -------------------------- ------------- 4/6 [pandas]\n",
            "   -------------------------- ------------- 4/6 [pandas]\n",
            "   -------------------------- ------------- 4/6 [pandas]\n",
            "   -------------------------- ------------- 4/6 [pandas]\n",
            "   -------------------------- ------------- 4/6 [pandas]\n",
            "   -------------------------- ------------- 4/6 [pandas]\n",
            "   -------------------------- ------------- 4/6 [pandas]\n",
            "   -------------------------- ------------- 4/6 [pandas]\n",
            "   -------------------------- ------------- 4/6 [pandas]\n",
            "   -------------------------- ------------- 4/6 [pandas]\n",
            "   -------------------------- ------------- 4/6 [pandas]\n",
            "   -------------------------- ------------- 4/6 [pandas]\n",
            "   -------------------------- ------------- 4/6 [pandas]\n",
            "   -------------------------- ------------- 4/6 [pandas]\n",
            "   -------------------------- ------------- 4/6 [pandas]\n",
            "   -------------------------- ------------- 4/6 [pandas]\n",
            "   -------------------------- ------------- 4/6 [pandas]\n",
            "   -------------------------- ------------- 4/6 [pandas]\n",
            "   -------------------------- ------------- 4/6 [pandas]\n",
            "   -------------------------- ------------- 4/6 [pandas]\n",
            "   -------------------------- ------------- 4/6 [pandas]\n",
            "   -------------------------- ------------- 4/6 [pandas]\n",
            "   -------------------------- ------------- 4/6 [pandas]\n",
            "   -------------------------- ------------- 4/6 [pandas]\n",
            "   -------------------------- ------------- 4/6 [pandas]\n",
            "   -------------------------- ------------- 4/6 [pandas]\n",
            "   -------------------------- ------------- 4/6 [pandas]\n",
            "   -------------------------- ------------- 4/6 [pandas]\n",
            "   --------------------------------- ------ 5/6 [openpyxl]\n",
            "   --------------------------------- ------ 5/6 [openpyxl]\n",
            "   --------------------------------- ------ 5/6 [openpyxl]\n",
            "   --------------------------------- ------ 5/6 [openpyxl]\n",
            "   --------------------------------- ------ 5/6 [openpyxl]\n",
            "   --------------------------------- ------ 5/6 [openpyxl]\n",
            "   --------------------------------- ------ 5/6 [openpyxl]\n",
            "   --------------------------------- ------ 5/6 [openpyxl]\n",
            "   --------------------------------- ------ 5/6 [openpyxl]\n",
            "   --------------------------------- ------ 5/6 [openpyxl]\n",
            "   --------------------------------- ------ 5/6 [openpyxl]\n",
            "   --------------------------------- ------ 5/6 [openpyxl]\n",
            "   --------------------------------- ------ 5/6 [openpyxl]\n",
            "   ---------------------------------------- 6/6 [openpyxl]\n",
            "\n",
            "Successfully installed et-xmlfile-2.0.0 numpy-2.3.3 openpyxl-3.1.5 pandas-2.3.2 pytz-2025.2 tzdata-2025.2\n"
          ]
        },
        {
          "ename": "ImportError",
          "evalue": "Plotly Express requires numpy to be installed. You can install numpy using pip with:\n\n$ pip install numpy\n\nOr install Plotly Express and its dependencies directly with:\n\n$ pip install \"plotly[express]\"\n\nYou can also use Plotly Graph Objects to create a large number of charts without installing\nnumpy. See examples here: https://plotly.com/python/graph-objects/\n",
          "output_type": "error",
          "traceback": [
            "\u001b[31m---------------------------------------------------------------------------\u001b[39m",
            "\u001b[31mImportError\u001b[39m                               Traceback (most recent call last)",
            "\u001b[36mCell\u001b[39m\u001b[36m \u001b[39m\u001b[32mIn[5]\u001b[39m\u001b[32m, line 3\u001b[39m\n\u001b[32m      1\u001b[39m get_ipython().system(\u001b[33m'\u001b[39m\u001b[33mpip install pandas plotly openpyxl\u001b[39m\u001b[33m'\u001b[39m)\n\u001b[32m      2\u001b[39m \u001b[38;5;28;01mimport\u001b[39;00m\u001b[38;5;250m \u001b[39m\u001b[34;01mpandas\u001b[39;00m\u001b[38;5;250m \u001b[39m\u001b[38;5;28;01mas\u001b[39;00m\u001b[38;5;250m \u001b[39m\u001b[34;01mpd\u001b[39;00m\n\u001b[32m----> \u001b[39m\u001b[32m3\u001b[39m \u001b[38;5;28;01mimport\u001b[39;00m\u001b[38;5;250m \u001b[39m\u001b[34;01mplotly\u001b[39;00m\u001b[34;01m.\u001b[39;00m\u001b[34;01mexpress\u001b[39;00m\u001b[38;5;250m \u001b[39m\u001b[38;5;28;01mas\u001b[39;00m\u001b[38;5;250m \u001b[39m\u001b[34;01mpx\u001b[39;00m\n\u001b[32m      5\u001b[39m faixa = pd.read_excel(\u001b[33m'\u001b[39m\u001b[33m/content/drive/MyDrive/etaria.xlsx\u001b[39m\u001b[33m'\u001b[39m)\n\u001b[32m      6\u001b[39m display(faixa)\n",
            "\u001b[36mFile \u001b[39m\u001b[32mc:\\Users\\Henri\\AppData\\Local\\Programs\\Python\\Python313\\Lib\\site-packages\\plotly\\express\\__init__.py:12\u001b[39m\n\u001b[32m     10\u001b[39m np = optional_imports.get_module(\u001b[33m\"\u001b[39m\u001b[33mnumpy\u001b[39m\u001b[33m\"\u001b[39m)\n\u001b[32m     11\u001b[39m \u001b[38;5;28;01mif\u001b[39;00m np \u001b[38;5;129;01mis\u001b[39;00m \u001b[38;5;28;01mNone\u001b[39;00m:\n\u001b[32m---> \u001b[39m\u001b[32m12\u001b[39m     \u001b[38;5;28;01mraise\u001b[39;00m \u001b[38;5;167;01mImportError\u001b[39;00m(\n\u001b[32m     13\u001b[39m \u001b[38;5;250m        \u001b[39m\u001b[33;03m\"\"\"\\\u001b[39;00m\n\u001b[32m     14\u001b[39m \u001b[33;03mPlotly Express requires numpy to be installed. You can install numpy using pip with:\u001b[39;00m\n\u001b[32m     15\u001b[39m \n\u001b[32m     16\u001b[39m \u001b[33;03m$ pip install numpy\u001b[39;00m\n\u001b[32m     17\u001b[39m \n\u001b[32m     18\u001b[39m \u001b[33;03mOr install Plotly Express and its dependencies directly with:\u001b[39;00m\n\u001b[32m     19\u001b[39m \n\u001b[32m     20\u001b[39m \u001b[33;03m$ pip install \"plotly[express]\"\u001b[39;00m\n\u001b[32m     21\u001b[39m \n\u001b[32m     22\u001b[39m \u001b[33;03mYou can also use Plotly Graph Objects to create a large number of charts without installing\u001b[39;00m\n\u001b[32m     23\u001b[39m \u001b[33;03mnumpy. See examples here: https://plotly.com/python/graph-objects/\u001b[39;00m\n\u001b[32m     24\u001b[39m \u001b[33;03m\"\"\"\u001b[39;00m\n\u001b[32m     25\u001b[39m     )\n\u001b[32m     27\u001b[39m \u001b[38;5;28;01mfrom\u001b[39;00m\u001b[38;5;250m \u001b[39m\u001b[34;01m.\u001b[39;00m\u001b[34;01m_imshow\u001b[39;00m\u001b[38;5;250m \u001b[39m\u001b[38;5;28;01mimport\u001b[39;00m imshow\n\u001b[32m     28\u001b[39m \u001b[38;5;28;01mfrom\u001b[39;00m\u001b[38;5;250m \u001b[39m\u001b[34;01m.\u001b[39;00m\u001b[34;01m_chart_types\u001b[39;00m\u001b[38;5;250m \u001b[39m\u001b[38;5;28;01mimport\u001b[39;00m (  \u001b[38;5;66;03m# noqa: F401\u001b[39;00m\n\u001b[32m     29\u001b[39m     scatter,\n\u001b[32m     30\u001b[39m     scatter_3d,\n\u001b[32m   (...)\u001b[39m\u001b[32m     67\u001b[39m     density_mapbox,\n\u001b[32m     68\u001b[39m )\n",
            "\u001b[31mImportError\u001b[39m: Plotly Express requires numpy to be installed. You can install numpy using pip with:\n\n$ pip install numpy\n\nOr install Plotly Express and its dependencies directly with:\n\n$ pip install \"plotly[express]\"\n\nYou can also use Plotly Graph Objects to create a large number of charts without installing\nnumpy. See examples here: https://plotly.com/python/graph-objects/\n"
          ]
        }
      ],
      "source": []
    },
    {
      "cell_type": "markdown",
      "metadata": {
        "id": "VrdSaSsBH_M9"
      },
      "source": [
        "### Densidade Populacional por Região"
      ]
    },
    {
      "cell_type": "code",
      "execution_count": 7,
      "metadata": {
        "colab": {
          "base_uri": "https://localhost:8080/",
          "height": 542
        },
        "id": "HaNKZugEH_M-",
        "outputId": "b6f9878a-6b24-4486-f7af-36b398c68b57"
      },
      "outputs": [
        {
          "data": {
            "text/html": [
              "<html>\n",
              "<head><meta charset=\"utf-8\" /></head>\n",
              "<body>\n",
              "    <div>            <script src=\"https://cdnjs.cloudflare.com/ajax/libs/mathjax/2.7.5/MathJax.js?config=TeX-AMS-MML_SVG\"></script><script type=\"text/javascript\">if (window.MathJax && window.MathJax.Hub && window.MathJax.Hub.Config) {window.MathJax.Hub.Config({SVG: {font: \"STIX-Web\"}});}</script>                <script type=\"text/javascript\">window.PlotlyConfig = {MathJaxConfig: 'local'};</script>\n",
              "        <script charset=\"utf-8\" src=\"https://cdn.plot.ly/plotly-2.35.2.min.js\"></script>                <div id=\"885c5baa-b589-48a3-b2e8-fa186441fef5\" class=\"plotly-graph-div\" style=\"height:525px; width:100%;\"></div>            <script type=\"text/javascript\">                                    window.PLOTLYENV=window.PLOTLYENV || {};                                    if (document.getElementById(\"885c5baa-b589-48a3-b2e8-fa186441fef5\")) {                    Plotly.newPlot(                        \"885c5baa-b589-48a3-b2e8-fa186441fef5\",                        [{\"alignmentgroup\":\"True\",\"hovertemplate\":\"x=%{x}\\u003cbr\\u003ey=%{y}\\u003cextra\\u003e\\u003c\\u002fextra\\u003e\",\"legendgroup\":\"\",\"marker\":{\"color\":\"#636efa\",\"pattern\":{\"shape\":\"\"}},\"name\":\"\",\"offsetgroup\":\"\",\"orientation\":\"v\",\"showlegend\":false,\"textposition\":\"auto\",\"x\":[\"SJC\",\"Norte\",\"Sul\",\"Leste\",\"Oeste\",\"Sudeste\",\"Centro\",\"Rural\"],\"xaxis\":\"x\",\"y\":[634.03,994.56,4204.07,1347.26,1465.17,1753.81,3875.86,20.4],\"yaxis\":\"y\",\"type\":\"bar\"}],                        {\"template\":{\"data\":{\"histogram2dcontour\":[{\"type\":\"histogram2dcontour\",\"colorbar\":{\"outlinewidth\":0,\"ticks\":\"\"},\"colorscale\":[[0.0,\"#0d0887\"],[0.1111111111111111,\"#46039f\"],[0.2222222222222222,\"#7201a8\"],[0.3333333333333333,\"#9c179e\"],[0.4444444444444444,\"#bd3786\"],[0.5555555555555556,\"#d8576b\"],[0.6666666666666666,\"#ed7953\"],[0.7777777777777778,\"#fb9f3a\"],[0.8888888888888888,\"#fdca26\"],[1.0,\"#f0f921\"]]}],\"choropleth\":[{\"type\":\"choropleth\",\"colorbar\":{\"outlinewidth\":0,\"ticks\":\"\"}}],\"histogram2d\":[{\"type\":\"histogram2d\",\"colorbar\":{\"outlinewidth\":0,\"ticks\":\"\"},\"colorscale\":[[0.0,\"#0d0887\"],[0.1111111111111111,\"#46039f\"],[0.2222222222222222,\"#7201a8\"],[0.3333333333333333,\"#9c179e\"],[0.4444444444444444,\"#bd3786\"],[0.5555555555555556,\"#d8576b\"],[0.6666666666666666,\"#ed7953\"],[0.7777777777777778,\"#fb9f3a\"],[0.8888888888888888,\"#fdca26\"],[1.0,\"#f0f921\"]]}],\"heatmap\":[{\"type\":\"heatmap\",\"colorbar\":{\"outlinewidth\":0,\"ticks\":\"\"},\"colorscale\":[[0.0,\"#0d0887\"],[0.1111111111111111,\"#46039f\"],[0.2222222222222222,\"#7201a8\"],[0.3333333333333333,\"#9c179e\"],[0.4444444444444444,\"#bd3786\"],[0.5555555555555556,\"#d8576b\"],[0.6666666666666666,\"#ed7953\"],[0.7777777777777778,\"#fb9f3a\"],[0.8888888888888888,\"#fdca26\"],[1.0,\"#f0f921\"]]}],\"heatmapgl\":[{\"type\":\"heatmapgl\",\"colorbar\":{\"outlinewidth\":0,\"ticks\":\"\"},\"colorscale\":[[0.0,\"#0d0887\"],[0.1111111111111111,\"#46039f\"],[0.2222222222222222,\"#7201a8\"],[0.3333333333333333,\"#9c179e\"],[0.4444444444444444,\"#bd3786\"],[0.5555555555555556,\"#d8576b\"],[0.6666666666666666,\"#ed7953\"],[0.7777777777777778,\"#fb9f3a\"],[0.8888888888888888,\"#fdca26\"],[1.0,\"#f0f921\"]]}],\"contourcarpet\":[{\"type\":\"contourcarpet\",\"colorbar\":{\"outlinewidth\":0,\"ticks\":\"\"}}],\"contour\":[{\"type\":\"contour\",\"colorbar\":{\"outlinewidth\":0,\"ticks\":\"\"},\"colorscale\":[[0.0,\"#0d0887\"],[0.1111111111111111,\"#46039f\"],[0.2222222222222222,\"#7201a8\"],[0.3333333333333333,\"#9c179e\"],[0.4444444444444444,\"#bd3786\"],[0.5555555555555556,\"#d8576b\"],[0.6666666666666666,\"#ed7953\"],[0.7777777777777778,\"#fb9f3a\"],[0.8888888888888888,\"#fdca26\"],[1.0,\"#f0f921\"]]}],\"surface\":[{\"type\":\"surface\",\"colorbar\":{\"outlinewidth\":0,\"ticks\":\"\"},\"colorscale\":[[0.0,\"#0d0887\"],[0.1111111111111111,\"#46039f\"],[0.2222222222222222,\"#7201a8\"],[0.3333333333333333,\"#9c179e\"],[0.4444444444444444,\"#bd3786\"],[0.5555555555555556,\"#d8576b\"],[0.6666666666666666,\"#ed7953\"],[0.7777777777777778,\"#fb9f3a\"],[0.8888888888888888,\"#fdca26\"],[1.0,\"#f0f921\"]]}],\"mesh3d\":[{\"type\":\"mesh3d\",\"colorbar\":{\"outlinewidth\":0,\"ticks\":\"\"}}],\"scatter\":[{\"fillpattern\":{\"fillmode\":\"overlay\",\"size\":10,\"solidity\":0.2},\"type\":\"scatter\"}],\"parcoords\":[{\"type\":\"parcoords\",\"line\":{\"colorbar\":{\"outlinewidth\":0,\"ticks\":\"\"}}}],\"scatterpolargl\":[{\"type\":\"scatterpolargl\",\"marker\":{\"colorbar\":{\"outlinewidth\":0,\"ticks\":\"\"}}}],\"bar\":[{\"error_x\":{\"color\":\"#2a3f5f\"},\"error_y\":{\"color\":\"#2a3f5f\"},\"marker\":{\"line\":{\"color\":\"#E5ECF6\",\"width\":0.5},\"pattern\":{\"fillmode\":\"overlay\",\"size\":10,\"solidity\":0.2}},\"type\":\"bar\"}],\"scattergeo\":[{\"type\":\"scattergeo\",\"marker\":{\"colorbar\":{\"outlinewidth\":0,\"ticks\":\"\"}}}],\"scatterpolar\":[{\"type\":\"scatterpolar\",\"marker\":{\"colorbar\":{\"outlinewidth\":0,\"ticks\":\"\"}}}],\"histogram\":[{\"marker\":{\"pattern\":{\"fillmode\":\"overlay\",\"size\":10,\"solidity\":0.2}},\"type\":\"histogram\"}],\"scattergl\":[{\"type\":\"scattergl\",\"marker\":{\"colorbar\":{\"outlinewidth\":0,\"ticks\":\"\"}}}],\"scatter3d\":[{\"type\":\"scatter3d\",\"line\":{\"colorbar\":{\"outlinewidth\":0,\"ticks\":\"\"}},\"marker\":{\"colorbar\":{\"outlinewidth\":0,\"ticks\":\"\"}}}],\"scattermapbox\":[{\"type\":\"scattermapbox\",\"marker\":{\"colorbar\":{\"outlinewidth\":0,\"ticks\":\"\"}}}],\"scatterternary\":[{\"type\":\"scatterternary\",\"marker\":{\"colorbar\":{\"outlinewidth\":0,\"ticks\":\"\"}}}],\"scattercarpet\":[{\"type\":\"scattercarpet\",\"marker\":{\"colorbar\":{\"outlinewidth\":0,\"ticks\":\"\"}}}],\"carpet\":[{\"aaxis\":{\"endlinecolor\":\"#2a3f5f\",\"gridcolor\":\"white\",\"linecolor\":\"white\",\"minorgridcolor\":\"white\",\"startlinecolor\":\"#2a3f5f\"},\"baxis\":{\"endlinecolor\":\"#2a3f5f\",\"gridcolor\":\"white\",\"linecolor\":\"white\",\"minorgridcolor\":\"white\",\"startlinecolor\":\"#2a3f5f\"},\"type\":\"carpet\"}],\"table\":[{\"cells\":{\"fill\":{\"color\":\"#EBF0F8\"},\"line\":{\"color\":\"white\"}},\"header\":{\"fill\":{\"color\":\"#C8D4E3\"},\"line\":{\"color\":\"white\"}},\"type\":\"table\"}],\"barpolar\":[{\"marker\":{\"line\":{\"color\":\"#E5ECF6\",\"width\":0.5},\"pattern\":{\"fillmode\":\"overlay\",\"size\":10,\"solidity\":0.2}},\"type\":\"barpolar\"}],\"pie\":[{\"automargin\":true,\"type\":\"pie\"}]},\"layout\":{\"autotypenumbers\":\"strict\",\"colorway\":[\"#636efa\",\"#EF553B\",\"#00cc96\",\"#ab63fa\",\"#FFA15A\",\"#19d3f3\",\"#FF6692\",\"#B6E880\",\"#FF97FF\",\"#FECB52\"],\"font\":{\"color\":\"#2a3f5f\"},\"hovermode\":\"closest\",\"hoverlabel\":{\"align\":\"left\"},\"paper_bgcolor\":\"white\",\"plot_bgcolor\":\"#E5ECF6\",\"polar\":{\"bgcolor\":\"#E5ECF6\",\"angularaxis\":{\"gridcolor\":\"white\",\"linecolor\":\"white\",\"ticks\":\"\"},\"radialaxis\":{\"gridcolor\":\"white\",\"linecolor\":\"white\",\"ticks\":\"\"}},\"ternary\":{\"bgcolor\":\"#E5ECF6\",\"aaxis\":{\"gridcolor\":\"white\",\"linecolor\":\"white\",\"ticks\":\"\"},\"baxis\":{\"gridcolor\":\"white\",\"linecolor\":\"white\",\"ticks\":\"\"},\"caxis\":{\"gridcolor\":\"white\",\"linecolor\":\"white\",\"ticks\":\"\"}},\"coloraxis\":{\"colorbar\":{\"outlinewidth\":0,\"ticks\":\"\"}},\"colorscale\":{\"sequential\":[[0.0,\"#0d0887\"],[0.1111111111111111,\"#46039f\"],[0.2222222222222222,\"#7201a8\"],[0.3333333333333333,\"#9c179e\"],[0.4444444444444444,\"#bd3786\"],[0.5555555555555556,\"#d8576b\"],[0.6666666666666666,\"#ed7953\"],[0.7777777777777778,\"#fb9f3a\"],[0.8888888888888888,\"#fdca26\"],[1.0,\"#f0f921\"]],\"sequentialminus\":[[0.0,\"#0d0887\"],[0.1111111111111111,\"#46039f\"],[0.2222222222222222,\"#7201a8\"],[0.3333333333333333,\"#9c179e\"],[0.4444444444444444,\"#bd3786\"],[0.5555555555555556,\"#d8576b\"],[0.6666666666666666,\"#ed7953\"],[0.7777777777777778,\"#fb9f3a\"],[0.8888888888888888,\"#fdca26\"],[1.0,\"#f0f921\"]],\"diverging\":[[0,\"#8e0152\"],[0.1,\"#c51b7d\"],[0.2,\"#de77ae\"],[0.3,\"#f1b6da\"],[0.4,\"#fde0ef\"],[0.5,\"#f7f7f7\"],[0.6,\"#e6f5d0\"],[0.7,\"#b8e186\"],[0.8,\"#7fbc41\"],[0.9,\"#4d9221\"],[1,\"#276419\"]]},\"xaxis\":{\"gridcolor\":\"white\",\"linecolor\":\"white\",\"ticks\":\"\",\"title\":{\"standoff\":15},\"zerolinecolor\":\"white\",\"automargin\":true,\"zerolinewidth\":2},\"yaxis\":{\"gridcolor\":\"white\",\"linecolor\":\"white\",\"ticks\":\"\",\"title\":{\"standoff\":15},\"zerolinecolor\":\"white\",\"automargin\":true,\"zerolinewidth\":2},\"scene\":{\"xaxis\":{\"backgroundcolor\":\"#E5ECF6\",\"gridcolor\":\"white\",\"linecolor\":\"white\",\"showbackground\":true,\"ticks\":\"\",\"zerolinecolor\":\"white\",\"gridwidth\":2},\"yaxis\":{\"backgroundcolor\":\"#E5ECF6\",\"gridcolor\":\"white\",\"linecolor\":\"white\",\"showbackground\":true,\"ticks\":\"\",\"zerolinecolor\":\"white\",\"gridwidth\":2},\"zaxis\":{\"backgroundcolor\":\"#E5ECF6\",\"gridcolor\":\"white\",\"linecolor\":\"white\",\"showbackground\":true,\"ticks\":\"\",\"zerolinecolor\":\"white\",\"gridwidth\":2}},\"shapedefaults\":{\"line\":{\"color\":\"#2a3f5f\"}},\"annotationdefaults\":{\"arrowcolor\":\"#2a3f5f\",\"arrowhead\":0,\"arrowwidth\":1},\"geo\":{\"bgcolor\":\"white\",\"landcolor\":\"#E5ECF6\",\"subunitcolor\":\"white\",\"showland\":true,\"showlakes\":true,\"lakecolor\":\"white\"},\"title\":{\"x\":0.05},\"mapbox\":{\"style\":\"light\"}}},\"xaxis\":{\"anchor\":\"y\",\"domain\":[0.0,1.0],\"title\":{\"text\":\"Região\"}},\"yaxis\":{\"anchor\":\"x\",\"domain\":[0.0,1.0],\"title\":{\"text\":\"habitantes\\u002fkm²\"}},\"legend\":{\"tracegroupgap\":0},\"margin\":{\"t\":60},\"barmode\":\"relative\",\"title\":{\"text\":\"Densidade Populacional x Região (2022)\"}},                        {\"responsive\": true}                    ).then(function(){\n",
              "                            \n",
              "var gd = document.getElementById('885c5baa-b589-48a3-b2e8-fa186441fef5');\n",
              "var x = new MutationObserver(function (mutations, observer) {{\n",
              "        var display = window.getComputedStyle(gd).display;\n",
              "        if (!display || display === 'none') {{\n",
              "            console.log([gd, 'removed!']);\n",
              "            Plotly.purge(gd);\n",
              "            observer.disconnect();\n",
              "        }}\n",
              "}});\n",
              "\n",
              "// Listen for the removal of the full notebook cells\n",
              "var notebookContainer = gd.closest('#notebook-container');\n",
              "if (notebookContainer) {{\n",
              "    x.observe(notebookContainer, {childList: true});\n",
              "}}\n",
              "\n",
              "// Listen for the clearing of the current output cell\n",
              "var outputEl = gd.closest('.output');\n",
              "if (outputEl) {{\n",
              "    x.observe(outputEl, {childList: true});\n",
              "}}\n",
              "\n",
              "                        })                };                            </script>        </div>\n",
              "</body>\n",
              "</html>"
            ]
          },
          "metadata": {},
          "output_type": "display_data"
        }
      ],
      "source": [
        "excel_file = '/content/drive/MyDrive/Arquivos/censo_2022_prefeitura.xlsx'\n",
        "tabela = pd.read_excel(excel_file, sheet_name=0,\n",
        "                       index_col=0,\n",
        "                       header=1)\n",
        "\n",
        "dp_sjc = float(tabela.at['Densidade demográfica', 'Valor'])\n",
        "\n",
        "regioes = ['Norte', 'Sul', 'Leste', 'Oeste', 'Sudeste', 'Centro', 'Rural',\n",
        "          #   'São Francisco Xavier (núcleo)'\n",
        "]\n",
        "\n",
        "pop = pd.read_excel(excel_file, sheet_name=\"População por Região\",  index_col=0, header=1)\n",
        "\n",
        "populacao = {}\n",
        "\n",
        "for regiao in regioes:\n",
        "  if regiao != 'Norte':\n",
        "    populacao[regiao] = int(pop.at[regiao, 'População (2022)'])\n",
        "  else:\n",
        "    populacao[regiao] = int(pop.at[regiao, 'População (2022)']) + int(pop.at['São Francisco Xavier (núcleo)', 'População (2022)'])\n",
        "\n",
        "area = {\n",
        "    \"Norte\": 63.73,\n",
        "    \"Sul\": 56.51,\n",
        "    \"Leste\": 134.69,\n",
        "    \"Oeste\": 44.01,\n",
        "    \"Sudeste\": 35.66,\n",
        "    \"Centro\": 18.68,\n",
        "    \"Rural\": 745.7,\n",
        "}\n",
        "\n",
        "regiaoData = {}\n",
        "\n",
        "for regiao in regioes:\n",
        "  regiaoData[regiao] = {\n",
        "      \"População\": populacao[regiao],\n",
        "      \"Área\": area[regiao],\n",
        "      \"Densidade\": populacao[regiao]/area[regiao],\n",
        "  }\n",
        "\n",
        "densidades = {}\n",
        "densidades['SJC'] = dp_sjc\n",
        "for regiao in regioes:\n",
        "  densidades[regiao] = f\"{regiaoData[regiao]['Densidade']:.2f}\"\n",
        "\n",
        "fig = px.bar(x=['SJC'] + [regiao for regiao in regioes], y=[float(densidade) for regiao, densidade in densidades.items()])\n",
        "fig.update_layout(\n",
        "    title=\"Densidade Populacional x Região (2022)\",\n",
        "    xaxis_title=\"Região\",\n",
        "    yaxis_title=\"habitantes/km²\",)\n",
        "fig.show()"
      ]
    }
  ],
  "metadata": {
    "colab": {
      "provenance": []
    },
    "kernelspec": {
      "display_name": "Python 3",
      "name": "python3"
    },
    "language_info": {
      "codemirror_mode": {
        "name": "ipython",
        "version": 3
      },
      "file_extension": ".py",
      "mimetype": "text/x-python",
      "name": "python",
      "nbconvert_exporter": "python",
      "pygments_lexer": "ipython3",
      "version": "3.13.6"
    }
  },
  "nbformat": 4,
  "nbformat_minor": 0
}
