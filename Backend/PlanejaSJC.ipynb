{
  "cells": [
    {
      "cell_type": "markdown",
      "metadata": {
        "id": "RO0owwGgFzou"
      },
      "source": [
        "# Bem-Vindo ao Planeja SJC!\n",
        "\n",
        "Aqui, você encontrará uma ampla gama de recursos para explorar e compreender a dinâmica da nossa cidade. Nossa plataforma oferece mapas interativos que permitem visualizar diferentes aspectos do espaço urbano, desde a infraestrutura até as áreas verdes, ajudando você a entender melhor o ambiente em que vive. Além disso, disponibilizamos dados demográficos detalhados, que fornecem uma visão abrangente sobre a população, suas características e necessidades. Esses dados são essenciais para que cidadãos, planejadores urbanos e gestores públicos possam tomar decisões informadas e embasadas."
      ]
    },
    {
      "cell_type": "markdown",
      "metadata": {
        "id": "dPUyOGC_GQEP"
      },
      "source": [
        "### Sumário dos Gráficos\n",
        "\n",
        "1 - População Total por Bairro e Zona\n",
        "\n",
        "2 - Crescimento Populacional por Zona entre 2010 e 2022\n",
        "\n",
        "3 - Pirâmide Etária\n",
        "\n",
        "4 - Densidade Populacional por Região"
      ]
    },
    {
      "cell_type": "markdown",
      "metadata": {},
      "source": [
        "### Dependências do Projeto"
      ]
    },
    {
      "cell_type": "code",
      "execution_count": null,
      "metadata": {},
      "outputs": [],
      "source": [
        "import os\n",
        "from contextlib import redirect_stdout\n",
        "import io\n",
        "\n",
        "# Define o diretório atual como o /content\n",
        "os.chdir('/content')\n",
        "\n",
        "# Baixa os arquivos do repositório Github para o /content do Colab\n",
        "with redirect_stdout(io.StringIO()):\n",
        "    !git clone https://github.com/OmniDevsOficial/API-Censo-2022.git\n",
        "\n",
        "# Define a pasta onde estão os arquivos da base de dados\n",
        "data_path = '/content/API-Censo-2022/Backend/database/'\n",
        "\n",
        "# Realiza as importações para ler arquivos e mostrar gráficos\n",
        "import pandas as pd\n",
        "import plotly.express as px"
      ]
    },
    {
      "cell_type": "markdown",
      "metadata": {
        "id": "Ub0VouJiHEnN"
      },
      "source": [
        "### População Total por Bairro e Zona"
      ]
    },
    {
      "cell_type": "code",
      "execution_count": null,
      "metadata": {
        "id": "5cZ_oh3ZEDYL"
      },
      "outputs": [],
      "source": [
        "#puxa a tabela de Pop por bairro e região do github e atribui as variaveis \"Pop_Tabela_Bairro\" e \"Pop_Tabela_Regiao\".\n",
        "Pop_Tabela_Bairro= pd.read_excel(data_path + 'populacao_subsetores_completo.xlsx')\n",
        "display(Pop_Tabela_Bairro) #mostra um exemplo\n",
        "\n",
        "Pop_Tabela_Regiao= pd.read_excel(data_path + \"censo_2022.xlsx\", sheet_name=\"População por Região\")\n",
        "display(Pop_Tabela_Regiao) #mostra um exemplo\n",
        "\n",
        "#cria um gráfico em relação as tabelas, nesse caso a tabela censo_2022.\n",
        "Pop_Total_Regiao=px.pie(Pop_Tabela_Regiao, names=\"Região\", values=\"População\")\n",
        "Pop_Total_Regiao.update_traces(textposition='inside', textinfo='percent+label', title_text=\"População Total:\", title_position=\"top left\")\n",
        "Pop_Total_Regiao.show()\n",
        "#ver como retirar \"Total Geral\" do gráfico e/ou por junto no titulo ou separado fora do gráfico pizza\n",
        "\n",
        "Pop_Bairro_Centro=px.bar(Pop_Tabela_Bairro, x=\"Subsetor – Nome\", y=\"População\", color=\"Região\",)\n",
        "Pop_Bairro_Centro.show()"
      ]
    },
    {
      "cell_type": "markdown",
      "metadata": {
        "id": "ob_GnKdSHyZP"
      },
      "source": [
        "### Crescimento Populacional por Zona entre 2010 e 2022"
      ]
    },
    {
      "cell_type": "code",
      "execution_count": null,
      "metadata": {
        "id": "XUGq3ZopHyZQ"
      },
      "outputs": [],
      "source": []
    },
    {
      "cell_type": "markdown",
      "metadata": {
        "id": "VoVfPvesH5sC"
      },
      "source": [
        "### Pirâmide Etária"
      ]
    },
    {
      "cell_type": "code",
      "execution_count": null,
      "metadata": {
        "id": "QQdCSI25H5sC"
      },
      "outputs": [],
      "source": []
    },
    {
      "cell_type": "markdown",
      "metadata": {
        "id": "VrdSaSsBH_M9"
      },
      "source": [
        "### Densidade Populacional por Região"
      ]
    },
    {
      "cell_type": "code",
      "execution_count": null,
      "metadata": {
        "id": "HaNKZugEH_M-"
      },
      "outputs": [],
      "source": []
    }
  ],
  "metadata": {
    "colab": {
      "provenance": []
    },
    "kernelspec": {
      "display_name": "Python 3",
      "name": "python3"
    },
    "language_info": {
      "name": "python"
    }
  },
  "nbformat": 4,
  "nbformat_minor": 0
}
